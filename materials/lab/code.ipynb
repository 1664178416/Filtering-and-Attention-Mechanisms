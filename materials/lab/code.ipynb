{
 "cells": [
  {
   "cell_type": "markdown",
   "id": "5bc212d4",
   "metadata": {},
   "source": [
    "创建环境\n",
    "conda create -n snn python=3.9\n",
    "conda activate snn\n",
    "安装 pytorch\n",
    "pip3 install torch torchvision torchaudio --index-url https://download.pytorch.org/whl/cu118\n",
    "安装 spikingjelly\n",
    "pip install spikingjelly matplotlib\n",
    "安装 cupy\n",
    "pip install cupy-cuda11x"
   ]
  },
  {
   "cell_type": "code",
   "execution_count": 1,
   "id": "bf9cdbd5",
   "metadata": {},
   "outputs": [
    {
     "name": "stdout",
     "output_type": "stream",
     "text": [
      "PyTorch version: 2.1.2\n",
      "CUDA available for PyTorch: True\n"
     ]
    }
   ],
   "source": [
    "import torch\n",
    "# Check PyTorch version and CUDA availability\n",
    "print(f\"PyTorch version: {torch.__version__}\")\n",
    "print(f\"CUDA available for PyTorch: {torch.cuda.is_available()}\")"
   ]
  },
  {
   "cell_type": "code",
   "execution_count": 2,
   "id": "77bf6fe5",
   "metadata": {},
   "outputs": [
    {
     "name": "stdout",
     "output_type": "stream",
     "text": [
      "Collecting spikingjelly\n",
      "  Downloading spikingjelly-0.0.0.0.14-py3-none-any.whl.metadata (15 kB)\n",
      "Requirement already satisfied: torch in d:\\anaconda3\\envs\\pytorch\\lib\\site-packages (from spikingjelly) (2.1.2)\n",
      "Requirement already satisfied: matplotlib in d:\\anaconda3\\envs\\pytorch\\lib\\site-packages (from spikingjelly) (3.8.3)\n",
      "Requirement already satisfied: numpy in d:\\anaconda3\\envs\\pytorch\\lib\\site-packages (from spikingjelly) (1.26.4)\n",
      "Requirement already satisfied: tqdm in d:\\anaconda3\\envs\\pytorch\\lib\\site-packages (from spikingjelly) (4.66.4)\n",
      "Requirement already satisfied: torchvision in d:\\anaconda3\\envs\\pytorch\\lib\\site-packages (from spikingjelly) (0.16.2)\n",
      "Requirement already satisfied: scipy in d:\\anaconda3\\envs\\pytorch\\lib\\site-packages (from spikingjelly) (1.12.0)\n",
      "Requirement already satisfied: contourpy>=1.0.1 in d:\\anaconda3\\envs\\pytorch\\lib\\site-packages (from matplotlib->spikingjelly) (1.2.0)\n",
      "Requirement already satisfied: cycler>=0.10 in d:\\anaconda3\\envs\\pytorch\\lib\\site-packages (from matplotlib->spikingjelly) (0.12.1)\n",
      "Requirement already satisfied: fonttools>=4.22.0 in d:\\anaconda3\\envs\\pytorch\\lib\\site-packages (from matplotlib->spikingjelly) (4.47.2)\n",
      "Requirement already satisfied: kiwisolver>=1.3.1 in d:\\anaconda3\\envs\\pytorch\\lib\\site-packages (from matplotlib->spikingjelly) (1.4.5)\n",
      "Requirement already satisfied: packaging>=20.0 in d:\\anaconda3\\envs\\pytorch\\lib\\site-packages (from matplotlib->spikingjelly) (23.2)\n",
      "Requirement already satisfied: pillow>=8 in d:\\anaconda3\\envs\\pytorch\\lib\\site-packages (from matplotlib->spikingjelly) (10.4.0)\n",
      "Requirement already satisfied: pyparsing>=2.3.1 in d:\\anaconda3\\envs\\pytorch\\lib\\site-packages (from matplotlib->spikingjelly) (3.1.2)\n",
      "Requirement already satisfied: python-dateutil>=2.7 in d:\\anaconda3\\envs\\pytorch\\lib\\site-packages (from matplotlib->spikingjelly) (2.8.2)\n",
      "Requirement already satisfied: filelock in d:\\anaconda3\\envs\\pytorch\\lib\\site-packages (from torch->spikingjelly) (3.13.1)\n",
      "Requirement already satisfied: typing-extensions in d:\\anaconda3\\envs\\pytorch\\lib\\site-packages (from torch->spikingjelly) (4.12.2)\n",
      "Requirement already satisfied: sympy in d:\\anaconda3\\envs\\pytorch\\lib\\site-packages (from torch->spikingjelly) (1.12)\n",
      "Requirement already satisfied: networkx in d:\\anaconda3\\envs\\pytorch\\lib\\site-packages (from torch->spikingjelly) (3.1)\n",
      "Requirement already satisfied: jinja2 in d:\\anaconda3\\envs\\pytorch\\lib\\site-packages (from torch->spikingjelly) (3.1.2)\n",
      "Requirement already satisfied: fsspec in d:\\anaconda3\\envs\\pytorch\\lib\\site-packages (from torch->spikingjelly) (2024.5.0)\n",
      "Requirement already satisfied: requests in d:\\anaconda3\\envs\\pytorch\\lib\\site-packages (from torchvision->spikingjelly) (2.32.3)\n",
      "Requirement already satisfied: colorama in d:\\anaconda3\\envs\\pytorch\\lib\\site-packages (from tqdm->spikingjelly) (0.4.6)\n",
      "Requirement already satisfied: six>=1.5 in d:\\anaconda3\\envs\\pytorch\\lib\\site-packages (from python-dateutil>=2.7->matplotlib->spikingjelly) (1.16.0)\n",
      "Requirement already satisfied: MarkupSafe>=2.0 in d:\\anaconda3\\envs\\pytorch\\lib\\site-packages (from jinja2->torch->spikingjelly) (2.1.3)\n",
      "Requirement already satisfied: charset-normalizer<4,>=2 in d:\\anaconda3\\envs\\pytorch\\lib\\site-packages (from requests->torchvision->spikingjelly) (2.0.4)\n",
      "Requirement already satisfied: idna<4,>=2.5 in d:\\anaconda3\\envs\\pytorch\\lib\\site-packages (from requests->torchvision->spikingjelly) (3.4)\n",
      "Requirement already satisfied: urllib3<3,>=1.21.1 in d:\\anaconda3\\envs\\pytorch\\lib\\site-packages (from requests->torchvision->spikingjelly) (1.26.18)\n",
      "Requirement already satisfied: certifi>=2017.4.17 in d:\\anaconda3\\envs\\pytorch\\lib\\site-packages (from requests->torchvision->spikingjelly) (2025.1.31)\n",
      "Requirement already satisfied: mpmath>=0.19 in d:\\anaconda3\\envs\\pytorch\\lib\\site-packages (from sympy->torch->spikingjelly) (1.3.0)\n",
      "Downloading spikingjelly-0.0.0.0.14-py3-none-any.whl (437 kB)\n",
      "   ---------------------------------------- 0.0/437.6 kB ? eta -:--:--\n",
      "   ---------------------------------------- 0.0/437.6 kB ? eta -:--:--\n",
      "    --------------------------------------- 10.2/437.6 kB ? eta -:--:--\n",
      "    --------------------------------------- 10.2/437.6 kB ? eta -:--:--\n",
      "    --------------------------------------- 10.2/437.6 kB ? eta -:--:--\n",
      "    --------------------------------------- 10.2/437.6 kB ? eta -:--:--\n",
      "    --------------------------------------- 10.2/437.6 kB ? eta -:--:--\n",
      "    --------------------------------------- 10.2/437.6 kB ? eta -:--:--\n",
      "    --------------------------------------- 10.2/437.6 kB ? eta -:--:--\n",
      "    --------------------------------------- 10.2/437.6 kB ? eta -:--:--\n",
      "    --------------------------------------- 10.2/437.6 kB ? eta -:--:--\n",
      "    --------------------------------------- 10.2/437.6 kB ? eta -:--:--\n",
      "    --------------------------------------- 10.2/437.6 kB ? eta -:--:--\n",
      "    --------------------------------------- 10.2/437.6 kB ? eta -:--:--\n",
      "    --------------------------------------- 10.2/437.6 kB ? eta -:--:--\n",
      "    --------------------------------------- 10.2/437.6 kB ? eta -:--:--\n",
      "    --------------------------------------- 10.2/437.6 kB ? eta -:--:--\n",
      "   -------- ------------------------------ 92.2/437.6 kB 145.5 kB/s eta 0:00:03\n",
      "   -------- ------------------------------ 92.2/437.6 kB 145.5 kB/s eta 0:00:03\n",
      "   --------- ---------------------------- 112.6/437.6 kB 159.8 kB/s eta 0:00:03\n",
      "   ---------- --------------------------- 122.9/437.6 kB 167.6 kB/s eta 0:00:02\n",
      "   ---------- --------------------------- 122.9/437.6 kB 167.6 kB/s eta 0:00:02\n",
      "   ------------ ------------------------- 143.4/437.6 kB 173.8 kB/s eta 0:00:02\n",
      "   ------------ ------------------------- 143.4/437.6 kB 173.8 kB/s eta 0:00:02\n",
      "   ------------ ------------------------- 143.4/437.6 kB 173.8 kB/s eta 0:00:02\n",
      "   ------------ ------------------------- 143.4/437.6 kB 173.8 kB/s eta 0:00:02\n",
      "   ------------ ------------------------- 143.4/437.6 kB 173.8 kB/s eta 0:00:02\n",
      "   ------------ ------------------------- 143.4/437.6 kB 173.8 kB/s eta 0:00:02\n",
      "   ------------ ------------------------- 143.4/437.6 kB 173.8 kB/s eta 0:00:02\n",
      "   ------------------- ------------------ 225.3/437.6 kB 208.6 kB/s eta 0:00:02\n",
      "   ------------------- ------------------ 225.3/437.6 kB 208.6 kB/s eta 0:00:02\n",
      "   ------------------- ------------------ 225.3/437.6 kB 208.6 kB/s eta 0:00:02\n",
      "   ------------------- ------------------ 225.3/437.6 kB 208.6 kB/s eta 0:00:02\n",
      "   ---------------------- --------------- 256.0/437.6 kB 212.6 kB/s eta 0:00:01\n",
      "   ---------------------- --------------- 256.0/437.6 kB 212.6 kB/s eta 0:00:01\n",
      "   -------------------------------------- 437.6/437.6 kB 341.9 kB/s eta 0:00:00\n",
      "Installing collected packages: spikingjelly\n",
      "Successfully installed spikingjelly-0.0.0.0.14\n",
      "Note: you may need to restart the kernel to use updated packages.\n"
     ]
    }
   ],
   "source": [
    "%pip install spikingjelly\n",
    "from spikingjelly.activation_based import neuron\n",
    "from spikingjelly import visualizing\n",
    "if_layer = neuron.IFNode()\n"
   ]
  },
  {
   "cell_type": "code",
   "execution_count": 1,
   "id": "b9064e14",
   "metadata": {},
   "outputs": [
    {
     "name": "stderr",
     "output_type": "stream",
     "text": [
      "d:\\Anaconda3\\envs\\pytorch\\lib\\site-packages\\cupy\\_environment.py:217: UserWarning: CUDA path could not be detected. Set CUDA_PATH environment variable if CuPy fails to load.\n",
      "  warnings.warn(\n",
      "d:\\Anaconda3\\envs\\pytorch\\lib\\site-packages\\tqdm\\auto.py:21: TqdmWarning: IProgress not found. Please update jupyter and ipywidgets. See https://ipywidgets.readthedocs.io/en/stable/user_install.html\n",
      "  from .autonotebook import tqdm as notebook_tqdm\n"
     ]
    }
   ],
   "source": [
    "import torch\n",
    "import sys\n",
    "import torch.nn.functional as F\n",
    "from torch.cuda import amp\n",
    "from spikingjelly.activation_based import functional, surrogate, neuron\n",
    "from spikingjelly.activation_based.model import parametric_lif_net\n",
    "from spikingjelly.datasets.dvs128_gesture import DVS128Gesture\n",
    "from torch.utils.data import DataLoader\n",
    "from torch.utils.tensorboard import SummaryWriter\n",
    "import time\n",
    "import os\n",
    "import argparse\n",
    "import datetime"
   ]
  }
 ],
 "metadata": {
  "kernelspec": {
   "display_name": "pytorch",
   "language": "python",
   "name": "python3"
  },
  "language_info": {
   "codemirror_mode": {
    "name": "ipython",
    "version": 3
   },
   "file_extension": ".py",
   "mimetype": "text/x-python",
   "name": "python",
   "nbconvert_exporter": "python",
   "pygments_lexer": "ipython3",
   "version": "3.10.13"
  }
 },
 "nbformat": 4,
 "nbformat_minor": 5
}
