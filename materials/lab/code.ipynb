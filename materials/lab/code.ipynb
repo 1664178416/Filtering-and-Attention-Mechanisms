{
 "cells": [
  {
   "cell_type": "markdown",
   "id": "5bc212d4",
   "metadata": {},
   "source": [
    "创建环境\n",
    "conda create -n snn python=3.9\n",
    "conda activate snn\n",
    "安装 pytorch\n",
    "pip3 install torch torchvision torchaudio --index-url https://download.pytorch.org/whl/cu118\n",
    "安装 spikingjelly\n",
    "pip install spikingjelly matplotlib\n",
    "安装 cupy\n",
    "pip install cupy-cuda11x"
   ]
  },
  {
   "cell_type": "code",
   "execution_count": 1,
   "id": "bf9cdbd5",
   "metadata": {},
   "outputs": [
    {
     "name": "stdout",
     "output_type": "stream",
     "text": [
      "PyTorch version: 2.7.0+cu118\n",
      "CUDA available for PyTorch: True\n"
     ]
    }
   ],
   "source": [
    "import torch\n",
    "# Check PyTorch version and CUDA availability\n",
    "print(f\"PyTorch version: {torch.__version__}\")\n",
    "print(f\"CUDA available for PyTorch: {torch.cuda.is_available()}\")"
   ]
  },
  {
   "cell_type": "code",
   "execution_count": null,
   "id": "77bf6fe5",
   "metadata": {},
   "outputs": [
    {
     "name": "stderr",
     "output_type": "stream",
     "text": [
      "d:\\dev\\anaconda3\\envs\\snn\\lib\\site-packages\\cupy\\_environment.py:217: UserWarning: CUDA path could not be detected. Set CUDA_PATH environment variable if CuPy fails to load.\n",
      "  warnings.warn(\n"
     ]
    }
   ],
   "source": [
    "from spikingjelly.activation_based import neuron\n",
    "from spikingjelly import visualizing\n",
    "if_layer = neuron.IFNode()\n"
   ]
  }
 ],
 "metadata": {
  "kernelspec": {
   "display_name": "snn",
   "language": "python",
   "name": "python3"
  },
  "language_info": {
   "codemirror_mode": {
    "name": "ipython",
    "version": 3
   },
   "file_extension": ".py",
   "mimetype": "text/x-python",
   "name": "python",
   "nbconvert_exporter": "python",
   "pygments_lexer": "ipython3",
   "version": "3.9.21"
  }
 },
 "nbformat": 4,
 "nbformat_minor": 5
}
