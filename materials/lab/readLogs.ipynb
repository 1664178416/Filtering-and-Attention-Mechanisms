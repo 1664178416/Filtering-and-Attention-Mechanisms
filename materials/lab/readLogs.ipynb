{
 "cells": [
  {
   "cell_type": "code",
   "execution_count": 14,
   "id": "6760a2ec",
   "metadata": {},
   "outputs": [
    {
     "name": "stdout",
     "output_type": "stream",
     "text": [
      "T16_b16_adam_lr0.001_c128_amp_cupy_Base\n",
      "T16_b16_adam_lr0.001_c128_amp_cupy_denoise\n",
      "T16_b16_adam_lr0.001_c128_amp_cupy_SE\n",
      "T2_b16_adam_lr0.001_c128_amp_cupy\n",
      "T4_b16_adam_lr0.001_c128_amp_cupy\n",
      "T8_b16_adam_lr0.001_c128_amp_cupy\n"
     ]
    }
   ],
   "source": [
    "import os\n",
    "# Define the path to the 'logs' directory\n",
    "logs_path = './logs/backups'\n",
    "# Use os.listdir() to get a list of all items in the 'logs' directory\n",
    "all_items = os.listdir(logs_path)\n",
    "# Filter the list to include only directories\n",
    "folders = [item for item in all_items if os.path.isdir(os.path.join(logs_path, item))]\n",
    "# Print the list of folders\n",
    "for name in folders:\n",
    "    print(name)"
   ]
  },
  {
   "cell_type": "code",
   "execution_count": 15,
   "id": "68d7b217",
   "metadata": {},
   "outputs": [],
   "source": [
    "from tensorboard.backend.event_processing import event_accumulator\n",
    "import csv\n",
    "def recordCSV(fileName):\n",
    "    log_dir = './logs/backups/' + fileName\n",
    "    ea = event_accumulator.EventAccumulator(log_dir)\n",
    "    ea.Reload()\n",
    "\n",
    "    # 提取 scalars\n",
    "    train_loss = ea.Scalars('train_loss')\n",
    "    train_acc = ea.Scalars('train_acc')\n",
    "    test_loss = ea.Scalars('test_loss')\n",
    "    test_acc = ea.Scalars('test_acc')\n",
    "    train_speed = ea.Scalars('train_speed')\n",
    "    test_speed = ea.Scalars('test_speed')\n",
    "\n",
    "    # 转换为 numpy 数组\n",
    "    epochs = [x.step for x in train_loss]\n",
    "    train_loss = [x.value for x in train_loss]\n",
    "    train_acc = [x.value for x in train_acc]\n",
    "    test_loss = [x.value for x in test_loss]\n",
    "    test_acc = [x.value for x in test_acc]\n",
    "    train_speed = [x.value for x in train_speed]\n",
    "    test_speed = [x.value for x in test_speed]\n",
    "\n",
    "        # Write data to CSV file\n",
    "    csv_file = './logs/' + fileName + '.csv'\n",
    "    with open(csv_file, mode='w', newline='') as file:\n",
    "        writer = csv.writer(file)\n",
    "        writer.writerow(['Epoch', 'Train Loss', 'Train Accuracy', 'Test Loss', 'Test Accuracy', 'Train Speed', 'Test Speed'])\n",
    "        for i in range(len(epochs)):\n",
    "            writer.writerow([\n",
    "                epochs[i],\n",
    "                train_loss[i],\n",
    "                train_acc[i],\n",
    "                test_loss[i],\n",
    "                test_acc[i],\n",
    "                train_speed[i],\n",
    "                test_speed[i]\n",
    "            ])\n",
    "\n",
    "    print(f'Data has been written to {csv_file}')"
   ]
  },
  {
   "cell_type": "code",
   "execution_count": 16,
   "id": "bc6f74d6",
   "metadata": {},
   "outputs": [
    {
     "name": "stderr",
     "output_type": "stream",
     "text": [
      "Detected out of order event.step likely caused by a TensorFlow restart. Purging expired events from Tensorboard display between the previous step: -1 (timestamp: -1) and current step: 0 (timestamp: 1749217100.3097432). Removing 48 scalars, 0 histograms, 0 compressed histograms, 0 images, and 0 audio.\n",
      "Detected out of order event.step likely caused by a TensorFlow restart. Purging expired events from Tensorboard display between the previous step: -1 (timestamp: -1) and current step: 0 (timestamp: 1749218666.7616572). Removing 96 scalars, 0 histograms, 0 compressed histograms, 0 images, and 0 audio.\n",
      "Detected out of order event.step likely caused by a TensorFlow restart. Purging expired events from Tensorboard display between the previous step: -1 (timestamp: -1) and current step: 0 (timestamp: 1749260277.621283). Removing 24 scalars, 0 histograms, 0 compressed histograms, 0 images, and 0 audio.\n",
      "Detected out of order event.step likely caused by a TensorFlow restart. Purging expired events from Tensorboard display between the previous step: -1 (timestamp: -1) and current step: 0 (timestamp: 1749260584.9364748). Removing 24 scalars, 0 histograms, 0 compressed histograms, 0 images, and 0 audio.\n",
      "Detected out of order event.step likely caused by a TensorFlow restart. Purging expired events from Tensorboard display between the previous step: -1 (timestamp: -1) and current step: 0 (timestamp: 1749260801.9986024). Removing 24 scalars, 0 histograms, 0 compressed histograms, 0 images, and 0 audio.\n",
      "Detected out of order event.step likely caused by a TensorFlow restart. Purging expired events from Tensorboard display between the previous step: -1 (timestamp: -1) and current step: 0 (timestamp: 1749260921.004199). Removing 24 scalars, 0 histograms, 0 compressed histograms, 0 images, and 0 audio.\n",
      "Detected out of order event.step likely caused by a TensorFlow restart. Purging expired events from Tensorboard display between the previous step: -1 (timestamp: -1) and current step: 0 (timestamp: 1749261640.7032638). Removing 192 scalars, 0 histograms, 0 compressed histograms, 0 images, and 0 audio.\n",
      "Detected out of order event.step likely caused by a TensorFlow restart. Purging expired events from Tensorboard display between the previous step: -1 (timestamp: -1) and current step: 0 (timestamp: 1749268511.2841504). Removing 192 scalars, 0 histograms, 0 compressed histograms, 0 images, and 0 audio.\n",
      "Detected out of order event.step likely caused by a TensorFlow restart. Purging expired events from Tensorboard display between the previous step: -1 (timestamp: -1) and current step: 0 (timestamp: 1749269293.0542424). Removing 192 scalars, 0 histograms, 0 compressed histograms, 0 images, and 0 audio.\n",
      "Detected out of order event.step likely caused by a TensorFlow restart. Purging expired events from Tensorboard display between the previous step: -1 (timestamp: -1) and current step: 0 (timestamp: 1749278610.1304681). Removing 48 scalars, 0 histograms, 0 compressed histograms, 0 images, and 0 audio.\n"
     ]
    },
    {
     "name": "stdout",
     "output_type": "stream",
     "text": [
      "Data has been written to ./logs/T16_b16_adam_lr0.001_c128_amp_cupy_Base.csv\n",
      "Data has been written to ./logs/T16_b16_adam_lr0.001_c128_amp_cupy_denoise.csv\n",
      "Data has been written to ./logs/T16_b16_adam_lr0.001_c128_amp_cupy_SE.csv\n",
      "Data has been written to ./logs/T2_b16_adam_lr0.001_c128_amp_cupy.csv\n",
      "Data has been written to ./logs/T4_b16_adam_lr0.001_c128_amp_cupy.csv\n",
      "Data has been written to ./logs/T8_b16_adam_lr0.001_c128_amp_cupy.csv\n"
     ]
    }
   ],
   "source": [
    "for name in folders:\n",
    "    recordCSV(name)"
   ]
  },
  {
   "cell_type": "code",
   "execution_count": 4,
   "id": "fb0fe03b",
   "metadata": {},
   "outputs": [
    {
     "name": "stderr",
     "output_type": "stream",
     "text": [
      "Detected out of order event.step likely caused by a TensorFlow restart. Purging expired events from Tensorboard display between the previous step: -1 (timestamp: -1) and current step: 0 (timestamp: 1749451276.370566). Removing 6 scalars, 0 histograms, 0 compressed histograms, 0 images, and 0 audio.\n",
      "Detected out of order event.step likely caused by a TensorFlow restart. Purging expired events from Tensorboard display between the previous step: -1 (timestamp: -1) and current step: 0 (timestamp: 1749453841.7338152). Removing 90 scalars, 0 histograms, 0 compressed histograms, 0 images, and 0 audio.\n",
      "Detected out of order event.step likely caused by a TensorFlow restart. Purging expired events from Tensorboard display between the previous step: -1 (timestamp: -1) and current step: 0 (timestamp: 1749454584.7337825). Removing 21 scalars, 0 histograms, 0 compressed histograms, 0 images, and 0 audio.\n",
      "Detected out of order event.step likely caused by a TensorFlow restart. Purging expired events from Tensorboard display between the previous step: -1 (timestamp: -1) and current step: 0 (timestamp: 1749460744.4908679). Removing 192 scalars, 0 histograms, 0 compressed histograms, 0 images, and 0 audio.\n"
     ]
    },
    {
     "name": "stdout",
     "output_type": "stream",
     "text": [
      "Data has been written to ./logs/T16_b16_adam_lr0.001_c128_amp_cupy_denoise_FrameNum16.csv\n"
     ]
    }
   ],
   "source": [
    "recordCSV('T16_b16_adam_lr0.001_c128_amp_cupy_denoise_FrameNum16')"
   ]
  },
  {
   "cell_type": "code",
   "execution_count": 6,
   "id": "714c3f31",
   "metadata": {},
   "outputs": [
    {
     "name": "stdout",
     "output_type": "stream",
     "text": [
      "Data has been written to ./logs/T16_b16_adam_lr0.001_c128_amp_cupy_O2.csv\n"
     ]
    }
   ],
   "source": [
    "recordCSV('T16_b16_adam_lr0.001_c128_amp_cupy_O2')"
   ]
  },
  {
   "cell_type": "code",
   "execution_count": 8,
   "id": "c862aaa5",
   "metadata": {},
   "outputs": [
    {
     "ename": "DirectoryDeletedError",
     "evalue": "Directory ./logs/backup/T16_b16_adam_lr0.001_c128_amp_cupy_denoise has been permanently deleted",
     "output_type": "error",
     "traceback": [
      "\u001b[1;31m---------------------------------------------------------------------------\u001b[0m",
      "\u001b[1;31mNotFoundError\u001b[0m                             Traceback (most recent call last)",
      "File \u001b[1;32md:\\dev\\anaconda3\\envs\\snn\\lib\\site-packages\\tensorboard\\backend\\event_processing\\directory_watcher.py:88\u001b[0m, in \u001b[0;36mDirectoryWatcher.Load\u001b[1;34m(self)\u001b[0m\n\u001b[0;32m     87\u001b[0m \u001b[38;5;28;01mtry\u001b[39;00m:\n\u001b[1;32m---> 88\u001b[0m     \u001b[38;5;28;01mfor\u001b[39;00m event \u001b[38;5;129;01min\u001b[39;00m \u001b[38;5;28mself\u001b[39m\u001b[38;5;241m.\u001b[39m_LoadInternal():\n\u001b[0;32m     89\u001b[0m         \u001b[38;5;28;01myield\u001b[39;00m event\n",
      "File \u001b[1;32md:\\dev\\anaconda3\\envs\\snn\\lib\\site-packages\\tensorboard\\backend\\event_processing\\directory_watcher.py:110\u001b[0m, in \u001b[0;36mDirectoryWatcher._LoadInternal\u001b[1;34m(self)\u001b[0m\n\u001b[0;32m    109\u001b[0m \u001b[38;5;28;01mif\u001b[39;00m \u001b[38;5;129;01mnot\u001b[39;00m \u001b[38;5;28mself\u001b[39m\u001b[38;5;241m.\u001b[39m_loader:\n\u001b[1;32m--> 110\u001b[0m     \u001b[38;5;28;43mself\u001b[39;49m\u001b[38;5;241;43m.\u001b[39;49m\u001b[43m_InitializeLoader\u001b[49m\u001b[43m(\u001b[49m\u001b[43m)\u001b[49m\n\u001b[0;32m    112\u001b[0m \u001b[38;5;66;03m# If it still doesn't exist, there is no data\u001b[39;00m\n",
      "File \u001b[1;32md:\\dev\\anaconda3\\envs\\snn\\lib\\site-packages\\tensorboard\\backend\\event_processing\\directory_watcher.py:173\u001b[0m, in \u001b[0;36mDirectoryWatcher._InitializeLoader\u001b[1;34m(self)\u001b[0m\n\u001b[0;32m    172\u001b[0m \u001b[38;5;28;01mdef\u001b[39;00m\u001b[38;5;250m \u001b[39m\u001b[38;5;21m_InitializeLoader\u001b[39m(\u001b[38;5;28mself\u001b[39m):\n\u001b[1;32m--> 173\u001b[0m     path \u001b[38;5;241m=\u001b[39m \u001b[38;5;28;43mself\u001b[39;49m\u001b[38;5;241;43m.\u001b[39;49m\u001b[43m_GetNextPath\u001b[49m\u001b[43m(\u001b[49m\u001b[43m)\u001b[49m\n\u001b[0;32m    174\u001b[0m     \u001b[38;5;28;01mif\u001b[39;00m path:\n",
      "File \u001b[1;32md:\\dev\\anaconda3\\envs\\snn\\lib\\site-packages\\tensorboard\\backend\\event_processing\\directory_watcher.py:210\u001b[0m, in \u001b[0;36mDirectoryWatcher._GetNextPath\u001b[1;34m(self)\u001b[0m\n\u001b[0;32m    200\u001b[0m \u001b[38;5;250m\u001b[39m\u001b[38;5;124;03m\"\"\"Gets the next path to load from.\u001b[39;00m\n\u001b[0;32m    201\u001b[0m \n\u001b[0;32m    202\u001b[0m \u001b[38;5;124;03mThis function also does the checking for out-of-order writes as it iterates\u001b[39;00m\n\u001b[1;32m   (...)\u001b[0m\n\u001b[0;32m    206\u001b[0m \u001b[38;5;124;03m  The next path to load events from, or None if there are no more paths.\u001b[39;00m\n\u001b[0;32m    207\u001b[0m \u001b[38;5;124;03m\"\"\"\u001b[39;00m\n\u001b[0;32m    208\u001b[0m paths \u001b[38;5;241m=\u001b[39m \u001b[38;5;28msorted\u001b[39m(\n\u001b[0;32m    209\u001b[0m     path\n\u001b[1;32m--> 210\u001b[0m     \u001b[38;5;28;01mfor\u001b[39;00m path \u001b[38;5;129;01min\u001b[39;00m \u001b[43mio_wrapper\u001b[49m\u001b[38;5;241;43m.\u001b[39;49m\u001b[43mListDirectoryAbsolute\u001b[49m\u001b[43m(\u001b[49m\u001b[38;5;28;43mself\u001b[39;49m\u001b[38;5;241;43m.\u001b[39;49m\u001b[43m_directory\u001b[49m\u001b[43m)\u001b[49m\n\u001b[0;32m    211\u001b[0m     \u001b[38;5;28;01mif\u001b[39;00m \u001b[38;5;28mself\u001b[39m\u001b[38;5;241m.\u001b[39m_path_filter(path)\n\u001b[0;32m    212\u001b[0m )\n\u001b[0;32m    213\u001b[0m \u001b[38;5;28;01mif\u001b[39;00m \u001b[38;5;129;01mnot\u001b[39;00m paths:\n",
      "File \u001b[1;32md:\\dev\\anaconda3\\envs\\snn\\lib\\site-packages\\tensorboard\\backend\\event_processing\\io_wrapper.py:78\u001b[0m, in \u001b[0;36mListDirectoryAbsolute\u001b[1;34m(directory)\u001b[0m\n\u001b[0;32m     73\u001b[0m \u001b[38;5;250m\u001b[39m\u001b[38;5;124;03m\"\"\"Yields all files in the given directory.\u001b[39;00m\n\u001b[0;32m     74\u001b[0m \n\u001b[0;32m     75\u001b[0m \u001b[38;5;124;03mThe paths are absolute.\u001b[39;00m\n\u001b[0;32m     76\u001b[0m \u001b[38;5;124;03m\"\"\"\u001b[39;00m\n\u001b[0;32m     77\u001b[0m \u001b[38;5;28;01mreturn\u001b[39;00m (\n\u001b[1;32m---> 78\u001b[0m     os\u001b[38;5;241m.\u001b[39mpath\u001b[38;5;241m.\u001b[39mjoin(directory, path) \u001b[38;5;28;01mfor\u001b[39;00m path \u001b[38;5;129;01min\u001b[39;00m \u001b[43mtf\u001b[49m\u001b[38;5;241;43m.\u001b[39;49m\u001b[43mio\u001b[49m\u001b[38;5;241;43m.\u001b[39;49m\u001b[43mgfile\u001b[49m\u001b[38;5;241;43m.\u001b[39;49m\u001b[43mlistdir\u001b[49m\u001b[43m(\u001b[49m\u001b[43mdirectory\u001b[49m\u001b[43m)\u001b[49m\n\u001b[0;32m     79\u001b[0m )\n",
      "File \u001b[1;32md:\\dev\\anaconda3\\envs\\snn\\lib\\site-packages\\tensorboard\\compat\\tensorflow_stub\\io\\gfile.py:898\u001b[0m, in \u001b[0;36mlistdir\u001b[1;34m(dirname)\u001b[0m\n\u001b[0;32m    884\u001b[0m \u001b[38;5;250m\u001b[39m\u001b[38;5;124;03m\"\"\"Returns a list of entries contained within a directory.\u001b[39;00m\n\u001b[0;32m    885\u001b[0m \n\u001b[0;32m    886\u001b[0m \u001b[38;5;124;03mThe list is in arbitrary order. It does not contain the special entries \".\"\u001b[39;00m\n\u001b[1;32m   (...)\u001b[0m\n\u001b[0;32m    896\u001b[0m \u001b[38;5;124;03m  errors.NotFoundError if directory doesn't exist\u001b[39;00m\n\u001b[0;32m    897\u001b[0m \u001b[38;5;124;03m\"\"\"\u001b[39;00m\n\u001b[1;32m--> 898\u001b[0m \u001b[38;5;28;01mreturn\u001b[39;00m \u001b[43mget_filesystem\u001b[49m\u001b[43m(\u001b[49m\u001b[43mdirname\u001b[49m\u001b[43m)\u001b[49m\u001b[38;5;241;43m.\u001b[39;49m\u001b[43mlistdir\u001b[49m\u001b[43m(\u001b[49m\u001b[43mdirname\u001b[49m\u001b[43m)\u001b[49m\n",
      "File \u001b[1;32md:\\dev\\anaconda3\\envs\\snn\\lib\\site-packages\\tensorboard\\compat\\tensorflow_stub\\io\\gfile.py:200\u001b[0m, in \u001b[0;36mLocalFileSystem.listdir\u001b[1;34m(self, dirname)\u001b[0m\n\u001b[0;32m    199\u001b[0m \u001b[38;5;28;01mif\u001b[39;00m \u001b[38;5;129;01mnot\u001b[39;00m \u001b[38;5;28mself\u001b[39m\u001b[38;5;241m.\u001b[39misdir(dirname):\n\u001b[1;32m--> 200\u001b[0m     \u001b[38;5;28;01mraise\u001b[39;00m errors\u001b[38;5;241m.\u001b[39mNotFoundError(\u001b[38;5;28;01mNone\u001b[39;00m, \u001b[38;5;28;01mNone\u001b[39;00m, \u001b[38;5;124m\"\u001b[39m\u001b[38;5;124mCould not find directory\u001b[39m\u001b[38;5;124m\"\u001b[39m)\n\u001b[0;32m    202\u001b[0m entries \u001b[38;5;241m=\u001b[39m os\u001b[38;5;241m.\u001b[39mlistdir(compat\u001b[38;5;241m.\u001b[39mas_str_any(dirname))\n",
      "\u001b[1;31mNotFoundError\u001b[0m: Could not find directory",
      "\nDuring handling of the above exception, another exception occurred:\n",
      "\u001b[1;31mDirectoryDeletedError\u001b[0m                     Traceback (most recent call last)",
      "Cell \u001b[1;32mIn[8], line 1\u001b[0m\n\u001b[1;32m----> 1\u001b[0m \u001b[43mrecordCSV\u001b[49m\u001b[43m(\u001b[49m\u001b[38;5;124;43m'\u001b[39;49m\u001b[38;5;124;43mT16_b16_adam_lr0.001_c128_amp_cupy_denoise\u001b[39;49m\u001b[38;5;124;43m'\u001b[39;49m\u001b[43m)\u001b[49m\n",
      "Cell \u001b[1;32mIn[4], line 6\u001b[0m, in \u001b[0;36mrecordCSV\u001b[1;34m(fileName)\u001b[0m\n\u001b[0;32m      4\u001b[0m log_dir \u001b[38;5;241m=\u001b[39m \u001b[38;5;124m'\u001b[39m\u001b[38;5;124m./logs/backup/\u001b[39m\u001b[38;5;124m'\u001b[39m \u001b[38;5;241m+\u001b[39m fileName\n\u001b[0;32m      5\u001b[0m ea \u001b[38;5;241m=\u001b[39m event_accumulator\u001b[38;5;241m.\u001b[39mEventAccumulator(log_dir)\n\u001b[1;32m----> 6\u001b[0m \u001b[43mea\u001b[49m\u001b[38;5;241;43m.\u001b[39;49m\u001b[43mReload\u001b[49m\u001b[43m(\u001b[49m\u001b[43m)\u001b[49m\n\u001b[0;32m      8\u001b[0m \u001b[38;5;66;03m# 提取 scalars\u001b[39;00m\n\u001b[0;32m      9\u001b[0m train_loss \u001b[38;5;241m=\u001b[39m ea\u001b[38;5;241m.\u001b[39mScalars(\u001b[38;5;124m'\u001b[39m\u001b[38;5;124mtrain_loss\u001b[39m\u001b[38;5;124m'\u001b[39m)\n",
      "File \u001b[1;32md:\\dev\\anaconda3\\envs\\snn\\lib\\site-packages\\tensorboard\\backend\\event_processing\\event_accumulator.py:343\u001b[0m, in \u001b[0;36mEventAccumulator.Reload\u001b[1;34m(self)\u001b[0m\n\u001b[0;32m    335\u001b[0m \u001b[38;5;250m\u001b[39m\u001b[38;5;124;03m\"\"\"Loads all events added since the last call to `Reload`.\u001b[39;00m\n\u001b[0;32m    336\u001b[0m \n\u001b[0;32m    337\u001b[0m \u001b[38;5;124;03mIf `Reload` was never called, loads all events in the file.\u001b[39;00m\n\u001b[1;32m   (...)\u001b[0m\n\u001b[0;32m    340\u001b[0m \u001b[38;5;124;03m  The `EventAccumulator`.\u001b[39;00m\n\u001b[0;32m    341\u001b[0m \u001b[38;5;124;03m\"\"\"\u001b[39;00m\n\u001b[0;32m    342\u001b[0m \u001b[38;5;28;01mwith\u001b[39;00m \u001b[38;5;28mself\u001b[39m\u001b[38;5;241m.\u001b[39m_generator_mutex:\n\u001b[1;32m--> 343\u001b[0m     \u001b[38;5;28;01mfor\u001b[39;00m event \u001b[38;5;129;01min\u001b[39;00m \u001b[38;5;28mself\u001b[39m\u001b[38;5;241m.\u001b[39m_generator\u001b[38;5;241m.\u001b[39mLoad():\n\u001b[0;32m    344\u001b[0m         \u001b[38;5;28mself\u001b[39m\u001b[38;5;241m.\u001b[39m_ProcessEvent(event)\n\u001b[0;32m    345\u001b[0m \u001b[38;5;28;01mreturn\u001b[39;00m \u001b[38;5;28mself\u001b[39m\n",
      "File \u001b[1;32md:\\dev\\anaconda3\\envs\\snn\\lib\\site-packages\\tensorboard\\backend\\event_processing\\directory_watcher.py:92\u001b[0m, in \u001b[0;36mDirectoryWatcher.Load\u001b[1;34m(self)\u001b[0m\n\u001b[0;32m     90\u001b[0m \u001b[38;5;28;01mexcept\u001b[39;00m tf\u001b[38;5;241m.\u001b[39merrors\u001b[38;5;241m.\u001b[39mOpError:\n\u001b[0;32m     91\u001b[0m     \u001b[38;5;28;01mif\u001b[39;00m \u001b[38;5;129;01mnot\u001b[39;00m tf\u001b[38;5;241m.\u001b[39mio\u001b[38;5;241m.\u001b[39mgfile\u001b[38;5;241m.\u001b[39mexists(\u001b[38;5;28mself\u001b[39m\u001b[38;5;241m.\u001b[39m_directory):\n\u001b[1;32m---> 92\u001b[0m         \u001b[38;5;28;01mraise\u001b[39;00m DirectoryDeletedError(\n\u001b[0;32m     93\u001b[0m             \u001b[38;5;124m\"\u001b[39m\u001b[38;5;124mDirectory \u001b[39m\u001b[38;5;132;01m%s\u001b[39;00m\u001b[38;5;124m has been permanently deleted\u001b[39m\u001b[38;5;124m\"\u001b[39m\n\u001b[0;32m     94\u001b[0m             \u001b[38;5;241m%\u001b[39m \u001b[38;5;28mself\u001b[39m\u001b[38;5;241m.\u001b[39m_directory\n\u001b[0;32m     95\u001b[0m         )\n",
      "\u001b[1;31mDirectoryDeletedError\u001b[0m: Directory ./logs/backup/T16_b16_adam_lr0.001_c128_amp_cupy_denoise has been permanently deleted"
     ]
    }
   ],
   "source": [
    "recordCSV('T16_b16_adam_lr0.001_c128_amp_cupy_denoise')"
   ]
  }
 ],
 "metadata": {
  "kernelspec": {
   "display_name": "snn",
   "language": "python",
   "name": "python3"
  },
  "language_info": {
   "codemirror_mode": {
    "name": "ipython",
    "version": 3
   },
   "file_extension": ".py",
   "mimetype": "text/x-python",
   "name": "python",
   "nbconvert_exporter": "python",
   "pygments_lexer": "ipython3",
   "version": "3.9.21"
  }
 },
 "nbformat": 4,
 "nbformat_minor": 5
}
